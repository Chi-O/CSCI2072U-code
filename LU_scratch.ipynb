{
 "cells": [
  {
   "cell_type": "code",
   "execution_count": 1,
   "metadata": {},
   "outputs": [],
   "source": [
    "# LU decomposition without pivoting (not for practical use)\n",
    "\n",
    "import numpy as np\n",
    "\n",
    "def LU(A):\n",
    "    N = np.shape(A)[0]  # get row/col dimension of A \n",
    "\n",
    "    # initialize matrices\n",
    "    U = np.copy(A)      # use np.copy() not assignment (to avoid using pointers and modifies the original array)\n",
    "    L = np.identity(N)  # identity matrix of size A\n",
    "\n",
    "    for j in range(N - 1):             # looping over columns (pivots); excluding the last row\n",
    "        for i in range(j + 1, N):      # start from the entry below the pivot\n",
    "            L[i, j] = U[i, j] / U[j, j]\n",
    "\n",
    "            U[i, :] = U[i, :] - L[i, j] * U[j, :]\n",
    "\n",
    "    return L, U"
   ]
  },
  {
   "cell_type": "code",
   "execution_count": 6,
   "metadata": {},
   "outputs": [
    {
     "name": "stdout",
     "output_type": "stream",
     "text": [
      "L: \n",
      " [[1. 0. 0. 0.]\n",
      " [2. 1. 0. 0.]\n",
      " [4. 3. 1. 0.]\n",
      " [3. 4. 1. 1.]]\n",
      "\n",
      "U: \n",
      " [[2 1 1 0]\n",
      " [0 1 1 1]\n",
      " [0 0 2 2]\n",
      " [0 0 0 2]]\n",
      "is A = LU? \n",
      "\n",
      "LU: \n",
      " [[2. 1. 1. 0.]\n",
      " [4. 3. 3. 1.]\n",
      " [8. 7. 9. 5.]\n",
      " [6. 7. 9. 8.]]\n",
      "\n",
      "A: \n",
      " [[2 1 1 0]\n",
      " [4 3 3 1]\n",
      " [8 7 9 5]\n",
      " [6 7 9 8]]\n"
     ]
    }
   ],
   "source": [
    "A = np.array([[2, 1, 1, 0], [4, 3, 3, 1], [8, 7, 9, 5], [6, 7, 9, 8]])\n",
    "\n",
    "L, U = LU(A)\n",
    "\n",
    "print(\"L: \\n\", L)\n",
    "print(\"\\nU: \\n\", U)\n",
    "\n",
    "print(\"is A = LU? \\n\")\n",
    "print(\"LU: \\n\", np.dot(L, U))\n",
    "\n",
    "print(\"\\nA: \\n\", A)"
   ]
  },
  {
   "cell_type": "code",
   "execution_count": 10,
   "metadata": {},
   "outputs": [
    {
     "name": "stdout",
     "output_type": "stream",
     "text": [
      "L: \n",
      " [[1.  0.  0.  0. ]\n",
      " [1.  1.  0.  0. ]\n",
      " [2.  1.5 1.  0. ]\n",
      " [1.5 2.5 inf 1. ]]\n",
      "\n",
      "U: \n",
      " [[          4           1           1           0]\n",
      " [          0           2           2           1]\n",
      " [          0           0           0           0]\n",
      " [-2147483648 -2147483648 -2147483648 -2147483648]]\n",
      "is A = LU? \n",
      "\n",
      "LU: \n",
      " [[4.  1.  1.  0. ]\n",
      " [4.  3.  3.  1. ]\n",
      " [8.  5.  5.  1.5]\n",
      " [nan nan nan nan]]\n",
      "\n",
      "A: \n",
      " [[4 1 1 0]\n",
      " [4 3 3 1]\n",
      " [8 5 5 1]\n",
      " [6 7 9 8]]\n"
     ]
    },
    {
     "name": "stderr",
     "output_type": "stream",
     "text": [
      "<ipython-input-1-6b9b2c52a72f>:14: RuntimeWarning: divide by zero encountered in long_scalars\n",
      "  L[i, j] = U[i, j] / U[j, j]\n",
      "<ipython-input-1-6b9b2c52a72f>:16: RuntimeWarning: invalid value encountered in multiply\n",
      "  U[i, :] = U[i, :] - L[i, j] * U[j, :]\n"
     ]
    }
   ],
   "source": [
    "# what happens if you change an entry (pivot) to zero?\n",
    "A = np.array([[4, 1, 1, 0], [4, 3, 3, 1], [8, 5, 5, 1], [6, 7, 9, 8]])\n",
    "\n",
    "L, U = LU(A)\n",
    "\n",
    "print(\"L: \\n\", L)\n",
    "print(\"\\nU: \\n\", U)\n",
    "\n",
    "print(\"is A = LU? \\n\")\n",
    "print(\"LU: \\n\", np.dot(L, U))\n",
    "\n",
    "print(\"\\nA: \\n\", A)"
   ]
  }
 ],
 "metadata": {
  "interpreter": {
   "hash": "768d37b7758e2dc91dd8a7c0b21b7a9e4a83b364f5a51f102074aadb076d42ce"
  },
  "kernelspec": {
   "display_name": "Python 3.8.8 ('base')",
   "language": "python",
   "name": "python3"
  },
  "language_info": {
   "codemirror_mode": {
    "name": "ipython",
    "version": 3
   },
   "file_extension": ".py",
   "mimetype": "text/x-python",
   "name": "python",
   "nbconvert_exporter": "python",
   "pygments_lexer": "ipython3",
   "version": "3.8.8"
  },
  "orig_nbformat": 4
 },
 "nbformat": 4,
 "nbformat_minor": 2
}
