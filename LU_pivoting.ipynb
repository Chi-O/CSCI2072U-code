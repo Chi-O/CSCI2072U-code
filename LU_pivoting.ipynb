{
 "cells": [
  {
   "cell_type": "code",
   "execution_count": 1,
   "metadata": {},
   "outputs": [
    {
     "name": "stdout",
     "output_type": "stream",
     "text": [
      "Matrix is\n",
      "\n",
      "[[  0.2   1.4  -0.4  12.3]\n",
      " [ -2.3   4.2   1.1  -0.9]\n",
      " [  9.2  -2.3  -0.1   2.2]\n",
      " [  3.4   3.3 -10.1   4. ]]\n",
      "\n",
      "\n",
      "L=\n",
      "[[ 1.          0.          0.          0.        ]\n",
      " [ 0.36956522  1.          0.          0.        ]\n",
      " [-0.25        0.87349398  1.          0.        ]\n",
      " [ 0.02173913  0.34939759  0.3160846   1.        ]]\n",
      "\n",
      "\n",
      "U=\n",
      "[[  9.2         -2.3         -0.1          2.2       ]\n",
      " [  0.           4.15       -10.06304348   3.18695652]\n",
      " [  0.           0.           9.86500786  -3.13378732]\n",
      " [  0.           0.           0.          12.12920089]]\n",
      "\n",
      "\n",
      "P=\n",
      "[[0. 0. 1. 0.]\n",
      " [0. 0. 0. 1.]\n",
      " [0. 1. 0. 0.]\n",
      " [1. 0. 0. 0.]]\n",
      "\n",
      "\n",
      "Residual vector is\n",
      "\n",
      "[[ 0.00000000e+00]\n",
      " [ 0.00000000e+00]\n",
      " [ 0.00000000e+00]\n",
      " [-5.55111512e-17]]\n",
      "\n",
      "\n"
     ]
    },
    {
     "name": "stderr",
     "output_type": "stream",
     "text": [
      "<ipython-input-1-4523d2ae6d62>:17: DeprecationWarning: scipy.matmul is deprecated and will be removed in SciPy 2.0.0, use numpy.matmul instead\n",
      "  Pb = scipy.matmul(P, b)\n",
      "<ipython-input-1-4523d2ae6d62>:38: DeprecationWarning: scipy.matmul is deprecated and will be removed in SciPy 2.0.0, use numpy.matmul instead\n",
      "  print(scipy.matmul(A, x)-b)\n"
     ]
    }
   ],
   "source": [
    "#  code for using scipy.linalg.lu to solve A x = b\n",
    "#    uses scipy.linalg.lu to find A = Pt L U,\n",
    "#    then uses scipy.linalg.solve_triangular to solve the resulting triangular systems\n",
    "\n",
    "import scipy\n",
    "import scipy.linalg\n",
    "import numpy as np\n",
    "\n",
    "A = np.array([[0.2, 1.4, -0.4, 12.3], [-2.3, 4.2, 1.1, -0.9],\n",
    "             [9.2, -2.3, -0.1, 2.2], [3.4, 3.3, -10.1, 4.0]])\n",
    "b = np.array([[0.2], [-1.2], [3.3], [0.2]])\n",
    "#  linalg finds Pt, L and U such that A = Pt L U\n",
    "#  (Pt is inverse of what we did in class; but for\n",
    "#    permutation matrices, inverse of P is transpose of P)\n",
    "Pt, L, U = scipy.linalg.lu(A)\n",
    "P = Pt.T\n",
    "Pb = scipy.matmul(P, b)\n",
    "y = scipy.linalg.solve_triangular(L, Pb, lower=True)\n",
    "x = scipy.linalg.solve_triangular(U, y, lower=False)\n",
    "\n",
    "print('Matrix is\\n')\n",
    "print(A)\n",
    "print('\\n')\n",
    "\n",
    "print('L=')\n",
    "print(L)\n",
    "print('\\n')\n",
    "\n",
    "print('U=')\n",
    "print(U)\n",
    "print('\\n')\n",
    "\n",
    "print('P=')\n",
    "print(Pt.T)\n",
    "print('\\n')\n",
    "\n",
    "print('Residual vector is\\n')\n",
    "print(scipy.matmul(A, x)-b)\n",
    "print('\\n')\n",
    "\n",
    "#  Pt L U = A\n",
    "#print(Pt @ L @ U-A)\n",
    "\n",
    "#  P A = L U\n",
    "#print(P @ A - L @ U)\n"
   ]
  }
 ],
 "metadata": {
  "interpreter": {
   "hash": "768d37b7758e2dc91dd8a7c0b21b7a9e4a83b364f5a51f102074aadb076d42ce"
  },
  "kernelspec": {
   "display_name": "Python 3.8.8 ('base')",
   "language": "python",
   "name": "python3"
  },
  "language_info": {
   "codemirror_mode": {
    "name": "ipython",
    "version": 3
   },
   "file_extension": ".py",
   "mimetype": "text/x-python",
   "name": "python",
   "nbconvert_exporter": "python",
   "pygments_lexer": "ipython3",
   "version": "3.8.8"
  },
  "orig_nbformat": 4
 },
 "nbformat": 4,
 "nbformat_minor": 2
}
