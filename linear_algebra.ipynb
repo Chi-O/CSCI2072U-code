{
 "cells": [
  {
   "cell_type": "code",
   "execution_count": 8,
   "metadata": {},
   "outputs": [
    {
     "name": "stdout",
     "output_type": "stream",
     "text": [
      "matrix A \n",
      " [[ -7  -2   5]\n",
      " [  6  32  21]\n",
      " [  5  12 100]]\n",
      "\n",
      " a_1,3 of A = 5\n"
     ]
    }
   ],
   "source": [
    "import numpy as np\n",
    "import scipy\n",
    "\n",
    "A = np.array([[-7, -2, 5], \n",
    "              [6, 32, 21],\n",
    "              [5, 12, 100]])\n",
    "\n",
    "print(\"matrix A \\n\", A)\n",
    "\n",
    "print(\"\\n a_1,3 of A = \" + str(A[0][2])) # note that indexing starts from zero"
   ]
  },
  {
   "cell_type": "code",
   "execution_count": 12,
   "metadata": {},
   "outputs": [
    {
     "name": "stdout",
     "output_type": "stream",
     "text": [
      "the transpose of matrix A =\n",
      " [[ -7   6   5]\n",
      " [ -2  32  12]\n",
      " [  5  21 100]]\n"
     ]
    }
   ],
   "source": [
    "# find the transpose\n",
    "B = A.T\n",
    "\n",
    "# NOTE: or using scipy\n",
    "# B = scipy.transpose(A)\n",
    "\n",
    "print(\"the transpose of matrix A =\\n\", B)"
   ]
  },
  {
   "cell_type": "code",
   "execution_count": 25,
   "metadata": {},
   "outputs": [
    {
     "name": "stdout",
     "output_type": "stream",
     "text": [
      "identity matrix: \n",
      " [[1. 0. 0. 0.]\n",
      " [0. 1. 0. 0.]\n",
      " [0. 0. 1. 0.]\n",
      " [0. 0. 0. 1.]]\n",
      "\n",
      " first standard column vector \n",
      " [[0.]\n",
      " [1.]\n",
      " [0.]\n",
      " [0.]]\n"
     ]
    }
   ],
   "source": [
    "# identity matrix\n",
    "id_matrix = np.identity(4)\n",
    "print(\"identity matrix: \\n\", id_matrix)\n",
    "\n",
    "# first standard unit vector\n",
    "e1 = id_matrix[:, [0]]\n",
    "# e2 = id_matrix[:, [1]]\n",
    "print(\"\\n first standard column vector \\n\", e1)\n"
   ]
  },
  {
   "cell_type": "code",
   "execution_count": 17,
   "metadata": {},
   "outputs": [
    {
     "name": "stdout",
     "output_type": "stream",
     "text": [
      "zero matrix: \n",
      " [[0. 0. 0.]\n",
      " [0. 0. 0.]\n",
      " [0. 0. 0.]]\n"
     ]
    }
   ],
   "source": [
    "# zero matrix\n",
    "zero_matrix = np.zeros((3, 3))\n",
    "print(\"zero matrix: \\n\", zero_matrix)\n"
   ]
  }
 ],
 "metadata": {
  "interpreter": {
   "hash": "768d37b7758e2dc91dd8a7c0b21b7a9e4a83b364f5a51f102074aadb076d42ce"
  },
  "kernelspec": {
   "display_name": "Python 3.8.8 ('base')",
   "language": "python",
   "name": "python3"
  },
  "language_info": {
   "codemirror_mode": {
    "name": "ipython",
    "version": 3
   },
   "file_extension": ".py",
   "mimetype": "text/x-python",
   "name": "python",
   "nbconvert_exporter": "python",
   "pygments_lexer": "ipython3",
   "version": "3.8.8"
  },
  "orig_nbformat": 4
 },
 "nbformat": 4,
 "nbformat_minor": 2
}
