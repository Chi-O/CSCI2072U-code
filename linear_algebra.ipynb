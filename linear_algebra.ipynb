{
 "cells": [
  {
   "cell_type": "code",
   "execution_count": 5,
   "metadata": {},
   "outputs": [
    {
     "name": "stdout",
     "output_type": "stream",
     "text": [
      "matrix A \n",
      " [[ -7  -2   5]\n",
      " [  6  32  21]\n",
      " [  5  12 100]]\n",
      "\n",
      " a_1,3 of A = 5\n"
     ]
    }
   ],
   "source": [
    "import numpy as np\n",
    "import scipy\n",
    "\n",
    "A = np.array([[-7, -2, 5],\n",
    "              [6, 32, 21],\n",
    "              [5, 12, 100]])\n",
    "\n",
    "print(\"matrix A \\n\", A)\n",
    "\n",
    "print(\"\\n a_1,3 of A = \" + str(A[0, 2]))  # note that indexing starts from zero\n"
   ]
  },
  {
   "cell_type": "code",
   "execution_count": 2,
   "metadata": {},
   "outputs": [
    {
     "name": "stdout",
     "output_type": "stream",
     "text": [
      "the transpose of matrix A =\n",
      " [[ -7   6   5]\n",
      " [ -2  32  12]\n",
      " [  5  21 100]]\n"
     ]
    }
   ],
   "source": [
    "# find the transpose\n",
    "B = A.T\n",
    "\n",
    "# NOTE: or using scipy\n",
    "# B = scipy.transpose(A)\n",
    "\n",
    "print(\"the transpose of matrix A =\\n\", B)"
   ]
  },
  {
   "cell_type": "code",
   "execution_count": 3,
   "metadata": {},
   "outputs": [
    {
     "name": "stdout",
     "output_type": "stream",
     "text": [
      "identity matrix: \n",
      " [[1. 0. 0. 0.]\n",
      " [0. 1. 0. 0.]\n",
      " [0. 0. 1. 0.]\n",
      " [0. 0. 0. 1.]]\n",
      "\n",
      " first standard column vector \n",
      " [[1.]\n",
      " [0.]\n",
      " [0.]\n",
      " [0.]]\n"
     ]
    }
   ],
   "source": [
    "# identity matrix\n",
    "id_matrix = np.identity(4)\n",
    "print(\"identity matrix: \\n\", id_matrix)\n",
    "\n",
    "# first standard unit vector\n",
    "e1 = id_matrix[:, [0]]\n",
    "# e2 = id_matrix[:, [1]]\n",
    "print(\"\\n first standard column vector \\n\", e1)\n"
   ]
  },
  {
   "cell_type": "code",
   "execution_count": 4,
   "metadata": {},
   "outputs": [
    {
     "name": "stdout",
     "output_type": "stream",
     "text": [
      "zero matrix: \n",
      " [[0. 0. 0.]\n",
      " [0. 0. 0.]\n",
      " [0. 0. 0.]]\n"
     ]
    }
   ],
   "source": [
    "# zero matrix\n",
    "zero_matrix = np.zeros((3, 3))\n",
    "print(\"zero matrix: \\n\", zero_matrix)\n"
   ]
  },
  {
   "cell_type": "code",
   "execution_count": 10,
   "metadata": {},
   "outputs": [
    {
     "name": "stdout",
     "output_type": "stream",
     "text": [
      "are the dimensions right?\n",
      "True\n",
      "\n",
      " the product of A and B is \n",
      " [[   78    -1   441]\n",
      " [   -1  1501  2514]\n",
      " [  441  2514 10169]]\n",
      "\n",
      " the product of B and A is \n",
      " [[  110   266   591]\n",
      " [  266  1172  1862]\n",
      " [  591  1862 10466]]\n"
     ]
    }
   ],
   "source": [
    "print(\"are the dimensions right?\")\n",
    "print(np.shape(A)[1] == np.shape(B)[0])\n",
    "\n",
    "# then we can do multiplication\n",
    "# C = scipy.matmul(A, B)\n",
    "C = np.matmul(A, B)\n",
    "print(\"\\n the product of A and B is \\n\", C)\n",
    "\n",
    "# to show difference\n",
    "D = np.matmul(B, A)\n",
    "print(\"\\n the product of B and A is \\n\", D)"
   ]
  },
  {
   "cell_type": "code",
   "execution_count": 20,
   "metadata": {},
   "outputs": [
    {
     "name": "stdout",
     "output_type": "stream",
     "text": [
      "\n",
      " A =  [[-7 -5]\n",
      " [-1 -8]]\n",
      "\n",
      " C =  [[4 5]\n",
      " [6 7]]\n",
      "\n",
      " what is A*C? \n",
      " [[-28 -25]\n",
      " [ -6 -56]]\n"
     ]
    }
   ],
   "source": [
    "# dot product vs '*' mulitplication\n",
    "C = np.array([[4, 5], [6, 7]])\n",
    "print(\"\\n A = \", A)\n",
    "print(\"\\n C = \", C)\n",
    "print(\"\\n what is A*C? \\n\", A*C)"
   ]
  },
  {
   "cell_type": "code",
   "execution_count": 25,
   "metadata": {},
   "outputs": [
    {
     "name": "stdout",
     "output_type": "stream",
     "text": [
      "\n",
      " A =  [[-7 -5]\n",
      " [-1 -8]]\n",
      "\n",
      " A^-1 =  [[-0.15686275  0.09803922]\n",
      " [ 0.01960784 -0.1372549 ]]\n",
      "\n",
      " A muliplied by it's inverse = \n",
      " [[1. 0.]\n",
      " [0. 1.]]\n"
     ]
    }
   ],
   "source": [
    "# inverse of matrix\n",
    "print(\"\\n A = \", A)\n",
    "inv_A = scipy.linalg.inv(A)\n",
    "print(\"\\n A^-1 = \", inv_A)\n",
    "# print(\"\\n A muliplied by it's inverse = \\n\", scipy.dot(A, inv_A))\n",
    "print(\"\\n A muliplied by it's inverse = \\n\", np.dot(A, inv_A))\n"
   ]
  },
  {
   "cell_type": "code",
   "execution_count": 16,
   "metadata": {},
   "outputs": [
    {
     "name": "stdout",
     "output_type": "stream",
     "text": [
      "\n",
      " solution of Ax = b \n",
      " x =  [[-0.25490196]\n",
      " [ 0.15686275]]\n"
     ]
    }
   ],
   "source": [
    "from scipy import linalg\n",
    "\n",
    "# solving linear equations\n",
    "A = np.array([[-7, -5], [-1, -8]])  # matrix of coeffients\n",
    "b = np.array([[1], [-1]])               # vector, 1D\n",
    "\n",
    "# solve Ax = b\n",
    "x = scipy.linalg.solve(A, b)\n",
    "\n",
    "print(\"\\n solution of Ax = b \\n x = \", x)"
   ]
  }
 ],
 "metadata": {
  "interpreter": {
   "hash": "768d37b7758e2dc91dd8a7c0b21b7a9e4a83b364f5a51f102074aadb076d42ce"
  },
  "kernelspec": {
   "display_name": "Python 3.8.8 ('base')",
   "language": "python",
   "name": "python3"
  },
  "language_info": {
   "codemirror_mode": {
    "name": "ipython",
    "version": 3
   },
   "file_extension": ".py",
   "mimetype": "text/x-python",
   "name": "python",
   "nbconvert_exporter": "python",
   "pygments_lexer": "ipython3",
   "version": "3.8.8"
  },
  "orig_nbformat": 4
 },
 "nbformat": 4,
 "nbformat_minor": 2
}
