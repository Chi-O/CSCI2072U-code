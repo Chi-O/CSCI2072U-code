{
 "cells": [
  {
   "cell_type": "code",
   "execution_count": 4,
   "metadata": {},
   "outputs": [
    {
     "name": "stdout",
     "output_type": "stream",
     "text": [
      "matrix A \n",
      " [[-7 -2]\n",
      " [ 6 32]\n",
      " [ 5 12]]\n"
     ]
    }
   ],
   "source": [
    "import numpy as np\n",
    "import scipy\n",
    "\n",
    "A = np.array([[-7, -2], \n",
    "              [6, 32],\n",
    "              [5, 12]])\n",
    "\n",
    "print(\"matrix A \\n\", A)"
   ]
  }
 ],
 "metadata": {
  "interpreter": {
   "hash": "768d37b7758e2dc91dd8a7c0b21b7a9e4a83b364f5a51f102074aadb076d42ce"
  },
  "kernelspec": {
   "display_name": "Python 3.8.8 ('base')",
   "language": "python",
   "name": "python3"
  },
  "language_info": {
   "codemirror_mode": {
    "name": "ipython",
    "version": 3
   },
   "file_extension": ".py",
   "mimetype": "text/x-python",
   "name": "python",
   "nbconvert_exporter": "python",
   "pygments_lexer": "ipython3",
   "version": "3.8.8"
  },
  "orig_nbformat": 4
 },
 "nbformat": 4,
 "nbformat_minor": 2
}
